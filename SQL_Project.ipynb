{
 "cells": [
  {
   "cell_type": "markdown",
   "metadata": {},
   "source": [
    "### 1. Import data into sql tables"
   ]
  },
  {
   "cell_type": "code",
   "execution_count": 3,
   "metadata": {},
   "outputs": [],
   "source": [
    "import pandas as pd\n",
    "import sqlite3\n",
    "import matplotlib.pyplot as plt"
   ]
  },
  {
   "cell_type": "code",
   "execution_count": 4,
   "metadata": {
    "scrolled": true
   },
   "outputs": [
    {
     "data": {
      "text/plain": [
       "'Connected: @nyc_inspection.db'"
      ]
     },
     "execution_count": 4,
     "metadata": {},
     "output_type": "execute_result"
    }
   ],
   "source": [
    "%load_ext sql\n",
    "%sql sqlite:///nyc_inspection.db"
   ]
  },
  {
   "cell_type": "code",
   "execution_count": 14,
   "metadata": {},
   "outputs": [],
   "source": [
    "#function to read txt file into sql database\n",
    "def sql_import(txtfile, tablename):\n",
    "    \"\"\"\n",
    "    Read txt file into sql database\n",
    "    Args:\n",
    "    txtfile (str): txt file name \n",
    "    tablename (str): table name\n",
    "    Returns:\n",
    "    None\n",
    "    \"\"\"\n",
    "    df=pd.read_csv(txtfile, error_bad_lines=False)\n",
    "    conn=sqlite3.connect('nyc_inspection.db')\n",
    "    df.to_sql(tablename, conn, if_exists='replace', index=False)"
   ]
  },
  {
   "cell_type": "code",
   "execution_count": 8,
   "metadata": {
    "scrolled": true
   },
   "outputs": [
    {
     "name": "stderr",
     "output_type": "stream",
     "text": [
      "C:\\Users\\Zhimin\\AppData\\Local\\Continuum\\anaconda3\\lib\\site-packages\\IPython\\core\\interactiveshell.py:3220: DtypeWarning: Columns (6) have mixed types. Specify dtype option on import or set low_memory=False.\n",
      "  if (yield from self.run_code(code, result)):\n"
     ]
    }
   ],
   "source": [
    "sql_import('WebExtract.txt', 'webextract')"
   ]
  },
  {
   "cell_type": "code",
   "execution_count": 12,
   "metadata": {},
   "outputs": [],
   "source": [
    "sql_import('Cuisine.txt', 'cuisine')"
   ]
  },
  {
   "cell_type": "code",
   "execution_count": 15,
   "metadata": {
    "scrolled": false
   },
   "outputs": [
    {
     "name": "stderr",
     "output_type": "stream",
     "text": [
      "b'Skipping line 34: expected 8 fields, saw 9\\nSkipping line 211: expected 8 fields, saw 9\\nSkipping line 216: expected 8 fields, saw 9\\nSkipping line 297: expected 8 fields, saw 9\\nSkipping line 303: expected 8 fields, saw 9\\nSkipping line 342: expected 8 fields, saw 9\\nSkipping line 394: expected 8 fields, saw 9\\n'\n"
     ]
    }
   ],
   "source": [
    "sql_import('Violation.txt', 'violations')"
   ]
  },
  {
   "cell_type": "markdown",
   "metadata": {},
   "source": [
    "### 2. Remove Null values"
   ]
  },
  {
   "cell_type": "markdown",
   "metadata": {},
   "source": [
    "For some restaurant, there is no score for a particular inspection date. Remove these records."
   ]
  },
  {
   "cell_type": "code",
   "execution_count": 20,
   "metadata": {
    "scrolled": true
   },
   "outputs": [
    {
     "name": "stdout",
     "output_type": "stream",
     "text": [
      " * sqlite:///nyc_inspection.db\n",
      "Done.\n"
     ]
    },
    {
     "data": {
      "text/html": [
       "<table>\n",
       "    <tr>\n",
       "        <th>COUNT(*)</th>\n",
       "    </tr>\n",
       "    <tr>\n",
       "        <td>8255</td>\n",
       "    </tr>\n",
       "</table>"
      ],
      "text/plain": [
       "[(8255,)]"
      ]
     },
     "execution_count": 20,
     "metadata": {},
     "output_type": "execute_result"
    }
   ],
   "source": [
    "%%sql\n",
    "\n",
    "--#count how many records need to be removed\n",
    "\n",
    "SELECT COUNT(*)\n",
    "FROM (SELECT camis, inspdate, SUM(score) AS count_score FROM webextract GROUP BY camis, inspdate)\n",
    "WHERE count_score is NULL;"
   ]
  },
  {
   "cell_type": "code",
   "execution_count": 21,
   "metadata": {
    "scrolled": true
   },
   "outputs": [
    {
     "name": "stdout",
     "output_type": "stream",
     "text": [
      " * sqlite:///nyc_inspection.db\n",
      "Done.\n",
      "Done.\n"
     ]
    },
    {
     "data": {
      "text/plain": [
       "[]"
      ]
     },
     "execution_count": 21,
     "metadata": {},
     "output_type": "execute_result"
    }
   ],
   "source": [
    "%%sql\n",
    "\n",
    "--#remove the null score\n",
    "--#create a temp table to store the new dataset, which is convinent and memory efficient\n",
    "\n",
    "DROP TABLE IF EXISTS webextract_not_null;\n",
    "\n",
    "CREATE TEMP TABLE webextract_not_null AS\n",
    "SELECT *\n",
    "FROM (SELECT camis, inspdate, SUM(score) as count_score FROM webextract GROUP BY camis, inspdate)\n",
    "WHERE count_score is NOT NULL;"
   ]
  },
  {
   "cell_type": "code",
   "execution_count": 23,
   "metadata": {},
   "outputs": [
    {
     "name": "stdout",
     "output_type": "stream",
     "text": [
      " * sqlite:///nyc_inspection.db\n",
      "Done.\n",
      "Done.\n"
     ]
    },
    {
     "data": {
      "text/plain": [
       "[]"
      ]
     },
     "execution_count": 23,
     "metadata": {},
     "output_type": "execute_result"
    }
   ],
   "source": [
    "%%sql\n",
    "\n",
    "--#new tabel to store all the data except the null score from webextract table\n",
    "\n",
    "DROP TABLE IF EXISTS wtable;\n",
    "\n",
    "CREATE TEMP TABLE wtable AS\n",
    "SELECT * FROM (webextract\n",
    "              INNER JOIN webextract_not_null\n",
    "               ON webextract.camis=webextract_not_null.camis AND webextract.inspdate=webextract_not_null.inspdate);"
   ]
  },
  {
   "cell_type": "code",
   "execution_count": 25,
   "metadata": {
    "scrolled": false
   },
   "outputs": [
    {
     "name": "stdout",
     "output_type": "stream",
     "text": [
      " * sqlite:///nyc_inspection.db\n",
      "Done.\n"
     ]
    },
    {
     "data": {
      "text/html": [
       "<table>\n",
       "    <tr>\n",
       "        <th>CAMIS</th>\n",
       "        <th>DBA</th>\n",
       "        <th>BORO</th>\n",
       "        <th>BUILDING</th>\n",
       "        <th>STREET</th>\n",
       "        <th>ZIPCODE</th>\n",
       "        <th>PHONE</th>\n",
       "        <th>CUISINECODE</th>\n",
       "        <th>INSPDATE</th>\n",
       "        <th>ACTION</th>\n",
       "        <th>VIOLCODE</th>\n",
       "        <th>SCORE</th>\n",
       "        <th>CURRENTGRADE</th>\n",
       "        <th>GRADEDATE</th>\n",
       "        <th>RECORDDATE</th>\n",
       "        <th>camis:1</th>\n",
       "        <th>inspdate:1</th>\n",
       "        <th>count_score</th>\n",
       "    </tr>\n",
       "    <tr>\n",
       "        <td>30075445</td>\n",
       "        <td>MORRIS PARK BAKE SHOP</td>\n",
       "        <td>2</td>\n",
       "        <td>1007      </td>\n",
       "        <td>MORRIS PARK AVE                                   </td>\n",
       "        <td>10462.0</td>\n",
       "        <td>7188924968</td>\n",
       "        <td>8</td>\n",
       "        <td>2014-03-03 00:00:00</td>\n",
       "        <td>D</td>\n",
       "        <td>10F</td>\n",
       "        <td>2.0</td>\n",
       "        <td>A</td>\n",
       "        <td>2014-03-03 00:00:00</td>\n",
       "        <td>2014-09-04 06:01:28.403000000</td>\n",
       "        <td>30075445</td>\n",
       "        <td>2014-03-03 00:00:00</td>\n",
       "        <td>2.0</td>\n",
       "    </tr>\n",
       "    <tr>\n",
       "        <td>30112340</td>\n",
       "        <td>WENDY&#x27;S</td>\n",
       "        <td>3</td>\n",
       "        <td>469</td>\n",
       "        <td>FLATBUSH AVENUE</td>\n",
       "        <td>11225.0</td>\n",
       "        <td>7182875005</td>\n",
       "        <td>39</td>\n",
       "        <td>2014-07-01 00:00:00</td>\n",
       "        <td>F</td>\n",
       "        <td>06A</td>\n",
       "        <td>23.0</td>\n",
       "        <td>B</td>\n",
       "        <td>2014-07-01 00:00:00</td>\n",
       "        <td>2014-09-04 06:01:28.403000000</td>\n",
       "        <td>30112340</td>\n",
       "        <td>2014-07-01 00:00:00</td>\n",
       "        <td>69.0</td>\n",
       "    </tr>\n",
       "    <tr>\n",
       "        <td>30191841</td>\n",
       "        <td>DJ REYNOLDS PUB AND RESTAURANT</td>\n",
       "        <td>1</td>\n",
       "        <td>351</td>\n",
       "        <td>WEST 57 STREET</td>\n",
       "        <td>10019.0</td>\n",
       "        <td>2122452912</td>\n",
       "        <td>3</td>\n",
       "        <td>2013-07-22 00:00:00</td>\n",
       "        <td>D</td>\n",
       "        <td>10B</td>\n",
       "        <td>11.0</td>\n",
       "        <td>A</td>\n",
       "        <td>2013-07-22 00:00:00</td>\n",
       "        <td>2014-09-04 06:01:28.403000000</td>\n",
       "        <td>30191841</td>\n",
       "        <td>2013-07-22 00:00:00</td>\n",
       "        <td>33.0</td>\n",
       "    </tr>\n",
       "    <tr>\n",
       "        <td>40356483</td>\n",
       "        <td>WILKEN&#x27;S FINE FOOD</td>\n",
       "        <td>3</td>\n",
       "        <td>7114      </td>\n",
       "        <td>AVENUE U                        </td>\n",
       "        <td>11234.0</td>\n",
       "        <td>7184443838</td>\n",
       "        <td>27</td>\n",
       "        <td>2014-05-29 00:00:00</td>\n",
       "        <td>D</td>\n",
       "        <td>08C</td>\n",
       "        <td>10.0</td>\n",
       "        <td>A</td>\n",
       "        <td>2014-05-29 00:00:00</td>\n",
       "        <td>2014-09-04 06:01:28.403000000</td>\n",
       "        <td>40356483</td>\n",
       "        <td>2014-05-29 00:00:00</td>\n",
       "        <td>30.0</td>\n",
       "    </tr>\n",
       "    <tr>\n",
       "        <td>30191841</td>\n",
       "        <td>DJ REYNOLDS PUB AND RESTAURANT</td>\n",
       "        <td>1</td>\n",
       "        <td>351</td>\n",
       "        <td>WEST 57 STREET</td>\n",
       "        <td>10019.0</td>\n",
       "        <td>2122452912</td>\n",
       "        <td>3</td>\n",
       "        <td>2013-07-22 00:00:00</td>\n",
       "        <td>D</td>\n",
       "        <td>02G</td>\n",
       "        <td>11.0</td>\n",
       "        <td>A</td>\n",
       "        <td>2013-07-22 00:00:00</td>\n",
       "        <td>2014-09-04 06:01:28.403000000</td>\n",
       "        <td>30191841</td>\n",
       "        <td>2013-07-22 00:00:00</td>\n",
       "        <td>33.0</td>\n",
       "    </tr>\n",
       "</table>"
      ],
      "text/plain": [
       "[(30075445, 'MORRIS PARK BAKE SHOP', 2, '1007      ', 'MORRIS PARK AVE                                   ', 10462.0, '7188924968', 8, '2014-03-03 00:00:00', 'D', '10F', 2.0, 'A', '2014-03-03 00:00:00', '2014-09-04 06:01:28.403000000', 30075445, '2014-03-03 00:00:00', 2.0),\n",
       " (30112340, \"WENDY'S\", 3, '469', 'FLATBUSH AVENUE', 11225.0, '7182875005', 39, '2014-07-01 00:00:00', 'F', '06A', 23.0, 'B', '2014-07-01 00:00:00', '2014-09-04 06:01:28.403000000', 30112340, '2014-07-01 00:00:00', 69.0),\n",
       " (30191841, 'DJ REYNOLDS PUB AND RESTAURANT', 1, '351', 'WEST 57 STREET', 10019.0, '2122452912', 3, '2013-07-22 00:00:00', 'D', '10B', 11.0, 'A', '2013-07-22 00:00:00', '2014-09-04 06:01:28.403000000', 30191841, '2013-07-22 00:00:00', 33.0),\n",
       " (40356483, \"WILKEN'S FINE FOOD\", 3, '7114      ', 'AVENUE U                        ', 11234.0, '7184443838', 27, '2014-05-29 00:00:00', 'D', '08C', 10.0, 'A', '2014-05-29 00:00:00', '2014-09-04 06:01:28.403000000', 40356483, '2014-05-29 00:00:00', 30.0),\n",
       " (30191841, 'DJ REYNOLDS PUB AND RESTAURANT', 1, '351', 'WEST 57 STREET', 10019.0, '2122452912', 3, '2013-07-22 00:00:00', 'D', '02G', 11.0, 'A', '2013-07-22 00:00:00', '2014-09-04 06:01:28.403000000', 30191841, '2013-07-22 00:00:00', 33.0)]"
      ]
     },
     "execution_count": 25,
     "metadata": {},
     "output_type": "execute_result"
    }
   ],
   "source": [
    "%%sql\n",
    "\n",
    "SELECT *\n",
    "FROM wtable\n",
    "LIMIT 5;"
   ]
  },
  {
   "cell_type": "code",
   "execution_count": 26,
   "metadata": {},
   "outputs": [
    {
     "name": "stdout",
     "output_type": "stream",
     "text": [
      " * sqlite:///nyc_inspection.db\n",
      "Done.\n"
     ]
    },
    {
     "data": {
      "text/html": [
       "<table>\n",
       "    <tr>\n",
       "        <th>COUNT(*)</th>\n",
       "    </tr>\n",
       "    <tr>\n",
       "        <td>522812</td>\n",
       "    </tr>\n",
       "</table>"
      ],
      "text/plain": [
       "[(522812,)]"
      ]
     },
     "execution_count": 26,
     "metadata": {},
     "output_type": "execute_result"
    }
   ],
   "source": [
    "%%sql\n",
    "\n",
    "SELECT COUNT(*)\n",
    "FROM wtable;"
   ]
  },
  {
   "cell_type": "markdown",
   "metadata": {},
   "source": [
    "### 3. Score by zip code"
   ]
  },
  {
   "cell_type": "markdown",
   "metadata": {},
   "source": [
    "Find the average score for zip code where restaurants are above 100"
   ]
  },
  {
   "cell_type": "code",
   "execution_count": 27,
   "metadata": {},
   "outputs": [
    {
     "name": "stdout",
     "output_type": "stream",
     "text": [
      " * sqlite:///nyc_inspection.db\n",
      "Done.\n"
     ]
    },
    {
     "data": {
      "text/html": [
       "<table>\n",
       "    <tr>\n",
       "        <th>COUNT(*)</th>\n",
       "    </tr>\n",
       "    <tr>\n",
       "        <td>87</td>\n",
       "    </tr>\n",
       "</table>"
      ],
      "text/plain": [
       "[(87,)]"
      ]
     },
     "execution_count": 27,
     "metadata": {},
     "output_type": "execute_result"
    }
   ],
   "source": [
    "%%sql\n",
    "\n",
    "--#number of zip code\n",
    "SELECT COUNT(*)\n",
    "FROM (SELECT zipcode, COUNT(DISTINCT camis) AS num_camis\n",
    "     FROM wtable\n",
    "     GROUP BY zipcode\n",
    "     HAVING num_camis>100);"
   ]
  },
  {
   "cell_type": "code",
   "execution_count": 28,
   "metadata": {},
   "outputs": [
    {
     "name": "stdout",
     "output_type": "stream",
     "text": [
      " * sqlite:///nyc_inspection.db\n",
      "Done.\n"
     ]
    },
    {
     "data": {
      "text/html": [
       "<table>\n",
       "    <tr>\n",
       "        <th>SUM(count)</th>\n",
       "    </tr>\n",
       "    <tr>\n",
       "        <td>24361</td>\n",
       "    </tr>\n",
       "</table>"
      ],
      "text/plain": [
       "[(24361,)]"
      ]
     },
     "execution_count": 28,
     "metadata": {},
     "output_type": "execute_result"
    }
   ],
   "source": [
    "%%sql\n",
    "\n",
    "--#how many unique restaurants\n",
    "\n",
    "SELECT SUM(count)\n",
    "FROM (SELECT COUNT(DISTINCT camis) AS count\n",
    "     FROM wtable \n",
    "     GROUP BY zipcode);"
   ]
  },
  {
   "cell_type": "code",
   "execution_count": 29,
   "metadata": {},
   "outputs": [
    {
     "name": "stdout",
     "output_type": "stream",
     "text": [
      " * sqlite:///nyc_inspection.db\n",
      "Done.\n",
      "Done.\n"
     ]
    },
    {
     "data": {
      "text/plain": [
       "[]"
      ]
     },
     "execution_count": 29,
     "metadata": {},
     "output_type": "execute_result"
    }
   ],
   "source": [
    "%%sql\n",
    "\n",
    "--#for each restaurant, use the latest inspection date's score\n",
    "\n",
    "DROP TABLE IF EXISTS max_inspdate;\n",
    "\n",
    "CREATE TEMP TABLE max_inspdate AS\n",
    "SELECT zipcode, camis, MAX(inspdate) AS inspdate\n",
    "      FROM wtable \n",
    "      GROUP BY zipcode, camis;"
   ]
  },
  {
   "cell_type": "code",
   "execution_count": 32,
   "metadata": {},
   "outputs": [
    {
     "name": "stdout",
     "output_type": "stream",
     "text": [
      " * sqlite:///nyc_inspection.db\n",
      "Done.\n",
      "Done.\n"
     ]
    },
    {
     "data": {
      "text/plain": [
       "[]"
      ]
     },
     "execution_count": 32,
     "metadata": {},
     "output_type": "execute_result"
    }
   ],
   "source": [
    "%%sql\n",
    "\n",
    "DROP TABLE IF EXISTS zipcode;\n",
    "\n",
    "CREATE TEMP TABLE zipcode AS \n",
    "SELECT DISTINCT wtable.zipcode, score, wtable.camis \n",
    "FROM wtable INNER JOIN max_inspdate ON \n",
    "wtable.zipcode=max_inspdate.zipcode AND wtable.camis=max_inspdate.camis AND wtable.inspdate=max_inspdate.inspdate"
   ]
  },
  {
   "cell_type": "code",
   "execution_count": 39,
   "metadata": {},
   "outputs": [
    {
     "name": "stdout",
     "output_type": "stream",
     "text": [
      " * sqlite:///nyc_inspection.db\n",
      "Done.\n",
      "Done.\n"
     ]
    },
    {
     "data": {
      "text/plain": [
       "[]"
      ]
     },
     "execution_count": 39,
     "metadata": {},
     "output_type": "execute_result"
    }
   ],
   "source": [
    "%%sql\n",
    "\n",
    "--#get the score for each zip code\n",
    "DROP TABLE IF EXISTS zipcode_score;\n",
    "\n",
    "CREATE TEMP TABLE zipcode_score AS\n",
    "SELECT zipcode, AVG(score), COUNT(DISTINCT camis) AS num_camis\n",
    "FROM zipcode\n",
    "GROUP BY zipcode\n",
    "HAVING num_camis>100\n",
    "ORDER BY AVG(score) DESC;"
   ]
  },
  {
   "cell_type": "code",
   "execution_count": 40,
   "metadata": {
    "scrolled": true
   },
   "outputs": [
    {
     "name": "stdout",
     "output_type": "stream",
     "text": [
      " * sqlite:///nyc_inspection.db\n",
      "Done.\n"
     ]
    },
    {
     "data": {
      "text/html": [
       "<table>\n",
       "    <tr>\n",
       "        <th>COUNT(*)</th>\n",
       "    </tr>\n",
       "    <tr>\n",
       "        <td>87</td>\n",
       "    </tr>\n",
       "</table>"
      ],
      "text/plain": [
       "[(87,)]"
      ]
     },
     "execution_count": 40,
     "metadata": {},
     "output_type": "execute_result"
    }
   ],
   "source": [
    "%%sql\n",
    "\n",
    "SELECT COUNT(*)\n",
    "FROM zipcode_score;"
   ]
  },
  {
   "cell_type": "code",
   "execution_count": 41,
   "metadata": {},
   "outputs": [
    {
     "name": "stdout",
     "output_type": "stream",
     "text": [
      " * sqlite:///nyc_inspection.db\n",
      "Done.\n"
     ]
    },
    {
     "data": {
      "text/html": [
       "<div>\n",
       "<style scoped>\n",
       "    .dataframe tbody tr th:only-of-type {\n",
       "        vertical-align: middle;\n",
       "    }\n",
       "\n",
       "    .dataframe tbody tr th {\n",
       "        vertical-align: top;\n",
       "    }\n",
       "\n",
       "    .dataframe thead th {\n",
       "        text-align: right;\n",
       "    }\n",
       "</style>\n",
       "<table border=\"1\" class=\"dataframe\">\n",
       "  <thead>\n",
       "    <tr style=\"text-align: right;\">\n",
       "      <th></th>\n",
       "      <th>ZIPCODE</th>\n",
       "      <th>AVG(score)</th>\n",
       "      <th>num_camis</th>\n",
       "    </tr>\n",
       "  </thead>\n",
       "  <tbody>\n",
       "    <tr>\n",
       "      <th>0</th>\n",
       "      <td>11355.0</td>\n",
       "      <td>14.021390</td>\n",
       "      <td>187</td>\n",
       "    </tr>\n",
       "    <tr>\n",
       "      <th>1</th>\n",
       "      <td>11104.0</td>\n",
       "      <td>13.372727</td>\n",
       "      <td>110</td>\n",
       "    </tr>\n",
       "    <tr>\n",
       "      <th>2</th>\n",
       "      <td>11220.0</td>\n",
       "      <td>13.334426</td>\n",
       "      <td>305</td>\n",
       "    </tr>\n",
       "    <tr>\n",
       "      <th>3</th>\n",
       "      <td>11235.0</td>\n",
       "      <td>13.290698</td>\n",
       "      <td>172</td>\n",
       "    </tr>\n",
       "    <tr>\n",
       "      <th>4</th>\n",
       "      <td>10033.0</td>\n",
       "      <td>13.132743</td>\n",
       "      <td>113</td>\n",
       "    </tr>\n",
       "    <tr>\n",
       "      <th>5</th>\n",
       "      <td>11377.0</td>\n",
       "      <td>13.111650</td>\n",
       "      <td>206</td>\n",
       "    </tr>\n",
       "    <tr>\n",
       "      <th>6</th>\n",
       "      <td>11354.0</td>\n",
       "      <td>13.110465</td>\n",
       "      <td>344</td>\n",
       "    </tr>\n",
       "    <tr>\n",
       "      <th>7</th>\n",
       "      <td>10032.0</td>\n",
       "      <td>12.913043</td>\n",
       "      <td>115</td>\n",
       "    </tr>\n",
       "    <tr>\n",
       "      <th>8</th>\n",
       "      <td>11372.0</td>\n",
       "      <td>12.857605</td>\n",
       "      <td>309</td>\n",
       "    </tr>\n",
       "    <tr>\n",
       "      <th>9</th>\n",
       "      <td>11249.0</td>\n",
       "      <td>12.836735</td>\n",
       "      <td>147</td>\n",
       "    </tr>\n",
       "  </tbody>\n",
       "</table>\n",
       "</div>"
      ],
      "text/plain": [
       "   ZIPCODE  AVG(score)  num_camis\n",
       "0  11355.0   14.021390        187\n",
       "1  11104.0   13.372727        110\n",
       "2  11220.0   13.334426        305\n",
       "3  11235.0   13.290698        172\n",
       "4  10033.0   13.132743        113\n",
       "5  11377.0   13.111650        206\n",
       "6  11354.0   13.110465        344\n",
       "7  10032.0   12.913043        115\n",
       "8  11372.0   12.857605        309\n",
       "9  11249.0   12.836735        147"
      ]
     },
     "execution_count": 41,
     "metadata": {},
     "output_type": "execute_result"
    }
   ],
   "source": [
    "result=%sql SELECT * FROM zipcode_score\n",
    "dataframe=result.DataFrame()\n",
    "dataframe[:10]"
   ]
  },
  {
   "cell_type": "markdown",
   "metadata": {},
   "source": [
    "According to zipcode definitions of [New York City Neighborhoods](https://www.health.ny.gov/statistics/cancer/registry/appendix/neighborhoods.htm), the first ten zip codes with highest scores are Northeast Queens, Northwest Queens, Sunset Park Brooklyn, Sounthern Brooklyn, Inwood and Washington Heights Manhattan, West Queens, North Queens, Inwood and Washington Heights Manhattan, West Queens, Brooklyn."
   ]
  },
  {
   "cell_type": "markdown",
   "metadata": {},
   "source": [
    "### 4. Score by borough"
   ]
  },
  {
   "cell_type": "markdown",
   "metadata": {},
   "source": [
    "Find the average score for five borough in NYC."
   ]
  },
  {
   "cell_type": "code",
   "execution_count": 43,
   "metadata": {},
   "outputs": [
    {
     "name": "stdout",
     "output_type": "stream",
     "text": [
      " * sqlite:///nyc_inspection.db\n",
      "Done.\n",
      "Done.\n"
     ]
    },
    {
     "data": {
      "text/plain": [
       "[]"
      ]
     },
     "execution_count": 43,
     "metadata": {},
     "output_type": "execute_result"
    }
   ],
   "source": [
    "%%sql \n",
    "\n",
    "DROP TABLE IF EXISTS boro_lascore;\n",
    "\n",
    "CREATE TEMP TABLE boro_lascore AS\n",
    "SELECT boro, camis, MAX(inspdate) AS inspdate\n",
    "FROM wtable\n",
    "GROUP BY boro, camis;"
   ]
  },
  {
   "cell_type": "code",
   "execution_count": 44,
   "metadata": {},
   "outputs": [
    {
     "name": "stdout",
     "output_type": "stream",
     "text": [
      " * sqlite:///nyc_inspection.db\n",
      "Done.\n",
      "Done.\n"
     ]
    },
    {
     "data": {
      "text/plain": [
       "[]"
      ]
     },
     "execution_count": 44,
     "metadata": {},
     "output_type": "execute_result"
    }
   ],
   "source": [
    "%%sql\n",
    "\n",
    "DROP TABLE IF EXISTS join_wtable;\n",
    "\n",
    "CREATE TEMP TABLE join_wtable AS\n",
    "SELECT *\n",
    "FROM wtable\n",
    "INNER JOIN boro_lascore \n",
    "ON wtable.boro=boro_lascore.boro AND wtable.camis=boro_lascore.camis AND wtable.inspdate=boro_lascore.inspdate;"
   ]
  },
  {
   "cell_type": "code",
   "execution_count": 45,
   "metadata": {},
   "outputs": [
    {
     "name": "stdout",
     "output_type": "stream",
     "text": [
      " * sqlite:///nyc_inspection.db\n",
      "Done.\n",
      "Done.\n"
     ]
    },
    {
     "data": {
      "text/plain": [
       "[]"
      ]
     },
     "execution_count": 45,
     "metadata": {},
     "output_type": "execute_result"
    }
   ],
   "source": [
    "%%sql\n",
    "\n",
    "DROP TABLE IF EXISTS boro_dins;\n",
    "\n",
    "CREATE TEMP TABLE boro_dins AS \n",
    "SELECT DISTINCT boro, score, camis\n",
    "FROM join_wtable;"
   ]
  },
  {
   "cell_type": "code",
   "execution_count": 46,
   "metadata": {},
   "outputs": [
    {
     "name": "stdout",
     "output_type": "stream",
     "text": [
      " * sqlite:///nyc_inspection.db\n",
      "Done.\n",
      "Done.\n"
     ]
    },
    {
     "data": {
      "text/plain": [
       "[]"
      ]
     },
     "execution_count": 46,
     "metadata": {},
     "output_type": "execute_result"
    }
   ],
   "source": [
    "%%sql\n",
    "\n",
    "DROP TABLE IF EXISTS score_by_borough;\n",
    "\n",
    "CREATE TEMP TABLE score_by_borough AS\n",
    "SELECT boro, AVG(score), COUNT(DISTINCT camis) AS num_camis\n",
    "FROM boro_dins\n",
    "GROUP BY boro\n",
    "ORDER BY AVG(score);"
   ]
  },
  {
   "cell_type": "code",
   "execution_count": 53,
   "metadata": {},
   "outputs": [
    {
     "name": "stdout",
     "output_type": "stream",
     "text": [
      " * sqlite:///nyc_inspection.db\n",
      "Done.\n",
      "Done.\n"
     ]
    },
    {
     "data": {
      "text/plain": [
       "[]"
      ]
     },
     "execution_count": 53,
     "metadata": {},
     "output_type": "execute_result"
    }
   ],
   "source": [
    "%%sql\n",
    "\n",
    "DROP TABLE IF EXISTS borough;\n",
    "\n",
    "CREATE TEMP TABLE borough AS\n",
    "SELECT *\n",
    "FROM score_by_borough\n",
    "WHERE boro in (1, 2, 3, 4, 5);"
   ]
  },
  {
   "cell_type": "code",
   "execution_count": 56,
   "metadata": {
    "scrolled": true
   },
   "outputs": [
    {
     "name": "stdout",
     "output_type": "stream",
     "text": [
      " * sqlite:///nyc_inspection.db\n",
      "Done.\n"
     ]
    },
    {
     "data": {
      "text/html": [
       "<div>\n",
       "<style scoped>\n",
       "    .dataframe tbody tr th:only-of-type {\n",
       "        vertical-align: middle;\n",
       "    }\n",
       "\n",
       "    .dataframe tbody tr th {\n",
       "        vertical-align: top;\n",
       "    }\n",
       "\n",
       "    .dataframe thead th {\n",
       "        text-align: right;\n",
       "    }\n",
       "</style>\n",
       "<table border=\"1\" class=\"dataframe\">\n",
       "  <thead>\n",
       "    <tr style=\"text-align: right;\">\n",
       "      <th></th>\n",
       "      <th>BORO</th>\n",
       "      <th>AVG(score)</th>\n",
       "      <th>num_camis</th>\n",
       "    </tr>\n",
       "  </thead>\n",
       "  <tbody>\n",
       "    <tr>\n",
       "      <th>0</th>\n",
       "      <td>2</td>\n",
       "      <td>10.776852</td>\n",
       "      <td>2281</td>\n",
       "    </tr>\n",
       "    <tr>\n",
       "      <th>1</th>\n",
       "      <td>1</td>\n",
       "      <td>11.489637</td>\n",
       "      <td>9891</td>\n",
       "    </tr>\n",
       "    <tr>\n",
       "      <th>2</th>\n",
       "      <td>3</td>\n",
       "      <td>11.596854</td>\n",
       "      <td>5849</td>\n",
       "    </tr>\n",
       "    <tr>\n",
       "      <th>3</th>\n",
       "      <td>4</td>\n",
       "      <td>11.822596</td>\n",
       "      <td>5417</td>\n",
       "    </tr>\n",
       "    <tr>\n",
       "      <th>4</th>\n",
       "      <td>5</td>\n",
       "      <td>11.899123</td>\n",
       "      <td>912</td>\n",
       "    </tr>\n",
       "  </tbody>\n",
       "</table>\n",
       "</div>"
      ],
      "text/plain": [
       "   BORO  AVG(score)  num_camis\n",
       "0     2   10.776852       2281\n",
       "1     1   11.489637       9891\n",
       "2     3   11.596854       5849\n",
       "3     4   11.822596       5417\n",
       "4     5   11.899123        912"
      ]
     },
     "execution_count": 56,
     "metadata": {},
     "output_type": "execute_result"
    }
   ],
   "source": [
    "result=%sql SELECT * FROM borough\n",
    "df=result.DataFrame()\n",
    "df"
   ]
  },
  {
   "cell_type": "code",
   "execution_count": 57,
   "metadata": {},
   "outputs": [
    {
     "data": {
      "text/html": [
       "<div>\n",
       "<style scoped>\n",
       "    .dataframe tbody tr th:only-of-type {\n",
       "        vertical-align: middle;\n",
       "    }\n",
       "\n",
       "    .dataframe tbody tr th {\n",
       "        vertical-align: top;\n",
       "    }\n",
       "\n",
       "    .dataframe thead th {\n",
       "        text-align: right;\n",
       "    }\n",
       "</style>\n",
       "<table border=\"1\" class=\"dataframe\">\n",
       "  <thead>\n",
       "    <tr style=\"text-align: right;\">\n",
       "      <th></th>\n",
       "      <th>BORO</th>\n",
       "      <th>AVG(score)</th>\n",
       "      <th>num_camis</th>\n",
       "    </tr>\n",
       "  </thead>\n",
       "  <tbody>\n",
       "    <tr>\n",
       "      <th>0</th>\n",
       "      <td>THE BRONX</td>\n",
       "      <td>10.776852</td>\n",
       "      <td>2281</td>\n",
       "    </tr>\n",
       "    <tr>\n",
       "      <th>1</th>\n",
       "      <td>MANHATTAN</td>\n",
       "      <td>11.489637</td>\n",
       "      <td>9891</td>\n",
       "    </tr>\n",
       "    <tr>\n",
       "      <th>2</th>\n",
       "      <td>BROOKLYN</td>\n",
       "      <td>11.596854</td>\n",
       "      <td>5849</td>\n",
       "    </tr>\n",
       "    <tr>\n",
       "      <th>3</th>\n",
       "      <td>QUEENS</td>\n",
       "      <td>11.822596</td>\n",
       "      <td>5417</td>\n",
       "    </tr>\n",
       "    <tr>\n",
       "      <th>4</th>\n",
       "      <td>STATEN ISLAND</td>\n",
       "      <td>11.899123</td>\n",
       "      <td>912</td>\n",
       "    </tr>\n",
       "  </tbody>\n",
       "</table>\n",
       "</div>"
      ],
      "text/plain": [
       "            BORO  AVG(score)  num_camis\n",
       "0      THE BRONX   10.776852       2281\n",
       "1      MANHATTAN   11.489637       9891\n",
       "2       BROOKLYN   11.596854       5849\n",
       "3         QUEENS   11.822596       5417\n",
       "4  STATEN ISLAND   11.899123        912"
      ]
     },
     "execution_count": 57,
     "metadata": {},
     "output_type": "execute_result"
    }
   ],
   "source": [
    "dic={1: 'MANHATTAN', 2: 'THE BRONX', 3: 'BROOKLYN', 4: 'QUEENS', 5: 'STATEN ISLAND'}\n",
    "df['BORO'].replace(dic, inplace=True)\n",
    "df"
   ]
  }
 ],
 "metadata": {
  "kernelspec": {
   "display_name": "Python 3",
   "language": "python",
   "name": "python3"
  },
  "language_info": {
   "codemirror_mode": {
    "name": "ipython",
    "version": 3
   },
   "file_extension": ".py",
   "mimetype": "text/x-python",
   "name": "python",
   "nbconvert_exporter": "python",
   "pygments_lexer": "ipython3",
   "version": "3.7.3"
  }
 },
 "nbformat": 4,
 "nbformat_minor": 2
}
